{
 "cells": [
  {
   "cell_type": "code",
   "execution_count": 1,
   "metadata": {},
   "outputs": [],
   "source": [
    "filename = \"budget_data.csv\"\n",
    "write_file_name = \"PyBank_Financial.txt\""
   ]
  },
  {
   "cell_type": "code",
   "execution_count": 2,
   "metadata": {},
   "outputs": [
    {
     "name": "stdout",
     "output_type": "stream",
     "text": [
      "Financial Analysis\n",
      "----------------------------\n",
      "Total Months: 86\n",
      "Total: $38382578\n",
      "Greatest Increase in Profits: Feb-2012 ($302709)\n",
      "Greatest Decrease in Profits: Sep-2013 ($-2064109)\n",
      "Average Change: $-2315.12\n"
     ]
    }
   ],
   "source": [
    "\"\"\"\n",
    "    This function reads the file's data and returns a list of lists,\n",
    "    where each list has only 2 elements: (date, profit_loss).\n",
    "\"\"\"\n",
    "def get_data_list(file_object):\n",
    "    file_object.readline() # reads and skips the first/header  line\n",
    "    line = file_object.readline().strip()\n",
    "    lol = []\n",
    "    total_pro_loss = 0\n",
    "    \n",
    "    while line != \"\":\n",
    "        line_seq = line.split(',')  # split function based on the argument (',') splits the string to a list of strings\n",
    "        \n",
    "        total_pro_loss = total_pro_loss + float(line_seq[1])  # keeping a running total of profit/loss\n",
    "        a_list = [line_seq[0], float(line_seq[1])]  \n",
    "        lol.append(a_list)   \n",
    "        line = file_object.readline().strip()\n",
    "    \n",
    "    return lol, total_pro_loss\n",
    "\n",
    "outfile = open(write_file_name, \"w\")\n",
    "\n",
    "outfile.write(\"Financial Analysis\\n\")\n",
    "print(\"Financial Analysis\")\n",
    "\n",
    "outfile.write(\"----------------------------\\n\")\n",
    "print(\"----------------------------\")\n",
    "\n",
    "\n",
    "with open(filename, \"r\") as infile:  # the open function will return a file-reference object\n",
    "    file_data_lol, total_pro_loss = get_data_list(infile)\n",
    "    # print(file_data_lol)\n",
    "    \n",
    "    num_months = len(file_data_lol)    \n",
    "    outfile.write(f\"Total Months: {num_months}\\n\")\n",
    "    print(f\"Total Months: {num_months}\")   # {} indicates a replacement field, \"\\n\" is a special escape-character\n",
    "    \n",
    "    # The net total amount of Profit/Losses over the entire period.\n",
    "    print(f\"Total: ${int(total_pro_loss)}\") \n",
    "    outfile.write(f\"Total: ${int(total_pro_loss)}\\n\")\n",
    "    \n",
    "    # The average of the changes in Profit/Losses over the entire period.\n",
    "    change = 0\n",
    "    max_change = -999999\n",
    "    max_change_date = \"\"\n",
    "    min_change = 99999999999\n",
    "    min_change_date = \"\"\n",
    "    \n",
    "    for indx, a_list in enumerate(file_data_lol):  # use enumerate function if you need both the index and the item while iterating through a sequence\n",
    "        # print(f\"Row {indx} List: {a_list}\")\n",
    "        if indx > 0:\n",
    "            # We need both the previous profit/loss\n",
    "            prev_pro_loss = file_data_lol[indx-1][1]\n",
    "            # We also need the profit/loss for the current row\n",
    "            cur_pro_loss = a_list[1]\n",
    "            # change = current_pro_loss - previous_pro_loss\n",
    "            change += (cur_pro_loss - prev_pro_loss)   # equivalent to writing -> change = change + (cur_pro_loss - prev_pro_loss) # \n",
    "            \n",
    "            if max_change < change:\n",
    "                max_change = change\n",
    "                max_change_date = a_list[0]\n",
    "                \n",
    "            if min_change > change:\n",
    "                min_change = change\n",
    "                min_change_date = a_list[0]\n",
    "    \n",
    "    outfile.write(f\"Greatest Increase in Profits: {max_change_date} (${max_change:.0f})\\n\")\n",
    "    print(f\"Greatest Increase in Profits: {max_change_date} (${max_change:.0f})\")\n",
    "    outfile.write(f\"Greatest Decrease in Profits: {min_change_date} (${min_change:.0f})\\n\")\n",
    "    print(f\"Greatest Decrease in Profits: {min_change_date} (${min_change:.0f})\")\n",
    "\n",
    "    avg_change = change / (num_months - 1)\n",
    "    outfile.write(f\"Average Change: ${avg_change:.2f}\\n\")\n",
    "    print(f\"Average Change: ${avg_change:.2f}\") \n",
    "    \n",
    "\n",
    "# with statement/construct closes the file \"budget_data.csv\"\n",
    "outfile.close()\n",
    "\n"
   ]
  },
  {
   "cell_type": "code",
   "execution_count": null,
   "metadata": {},
   "outputs": [],
   "source": []
  }
 ],
 "metadata": {
  "kernelspec": {
   "display_name": "Python 3",
   "language": "python",
   "name": "python3"
  },
  "language_info": {
   "codemirror_mode": {
    "name": "ipython",
    "version": 3
   },
   "file_extension": ".py",
   "mimetype": "text/x-python",
   "name": "python",
   "nbconvert_exporter": "python",
   "pygments_lexer": "ipython3",
   "version": "3.8.8"
  }
 },
 "nbformat": 4,
 "nbformat_minor": 4
}
